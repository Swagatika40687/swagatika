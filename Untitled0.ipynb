{
  "cells": [
    {
      "cell_type": "markdown",
      "metadata": {
        "id": "view-in-github",
        "colab_type": "text"
      },
      "source": [
        "<a href=\"https://colab.research.google.com/github/Swagatika40687/swagatika/blob/main/Untitled0.ipynb\" target=\"_parent\"><img src=\"https://colab.research.google.com/assets/colab-badge.svg\" alt=\"Open In Colab\"/></a>"
      ]
    },
    {
      "cell_type": "code",
      "execution_count": null,
      "metadata": {
        "colab": {
          "base_uri": "https://localhost:8080/"
        },
        "id": "u5xLb6IwebNu",
        "outputId": "8856e6ef-17e9-4a23-c371-64a696c22d6f"
      },
      "outputs": [
        {
          "name": "stdout",
          "output_type": "stream",
          "text": [
            "Enter the value:23\n",
            "The value in Fahrenheit 73.4\n",
            "Enter the value:23\n",
            "The value in celsius -5\n"
          ]
        }
      ],
      "source": [
        "celsius=float(input(\"Enter the value:\"))\n",
        "Fahrenheit=(celsius *1.8)+32\n",
        "print(\"The value in Fahrenheit\",Fahrenheit)\n",
        "Fahrenheit_f=float(input(\"Enter the value:\"))\n",
        "celsius_c=int((Fahrenheit_f-32)/1.8)\n",
        "print(\"The value in celsius\",celsius_c)"
      ]
    },
    {
      "cell_type": "code",
      "execution_count": null,
      "metadata": {
        "id": "AxsFmYH6NnFx"
      },
      "outputs": [],
      "source": [
        "for var in\"ABIT\":\n",
        "  if var==\"B\":\n",
        "    continue\n",
        "    print(var) "
      ]
    },
    {
      "cell_type": "code",
      "execution_count": null,
      "metadata": {
        "colab": {
          "base_uri": "https://localhost:8080/"
        },
        "id": "9-w2NMu_Z8pH",
        "outputId": "86d88913-e51b-4e4b-dc06-4c8697a9abe7"
      },
      "outputs": [
        {
          "name": "stdout",
          "output_type": "stream",
          "text": [
            "Enter your Choice3\n",
            "3\n",
            "6\n",
            "9\n",
            "12\n",
            "15\n",
            "18\n",
            "21\n",
            "24\n",
            "27\n",
            "30\n"
          ]
        }
      ],
      "source": [
        "# To CREATE A TABLE\n",
        "list=[1,2,3,4,5,6,7,8,9,10]\n",
        "n=int(input('Enter your Choice'))\n",
        "for i in list:\n",
        "   c=n*i\n",
        "   print(c)"
      ]
    },
    {
      "cell_type": "code",
      "execution_count": null,
      "metadata": {
        "id": "CQbHEapVbFt6"
      },
      "outputs": [],
      "source": []
    },
    {
      "cell_type": "code",
      "execution_count": null,
      "metadata": {
        "colab": {
          "base_uri": "https://localhost:8080/"
        },
        "id": "RyRDmm4ddJAt",
        "outputId": "9e7590ab-6efc-4443-ed0a-136b94f8bb00"
      },
      "outputs": [
        {
          "name": "stdout",
          "output_type": "stream",
          "text": [
            "The sum is: 183\n"
          ]
        }
      ],
      "source": [
        "list=[10,30,23,43,65,12]\n",
        "sum=0\n",
        "for i in list:\n",
        "  sum = sum+i\n",
        "print(\"The sum is:\",sum)\n",
        " "
      ]
    },
    {
      "cell_type": "code",
      "execution_count": null,
      "metadata": {
        "colab": {
          "base_uri": "https://localhost:8080/"
        },
        "id": "EYIYzeT_gSHo",
        "outputId": "f89487ed-b547-4310-c0a8-892967f3bb32"
      },
      "outputs": [
        {
          "name": "stdout",
          "output_type": "stream",
          "text": [
            "0123456789"
          ]
        }
      ],
      "source": [
        "#Using range() function in for loop\n",
        "for i in range(10):\n",
        "  print(i,end='')\n"
      ]
    },
    {
      "cell_type": "code",
      "execution_count": null,
      "metadata": {
        "colab": {
          "base_uri": "https://localhost:8080/"
        },
        "id": "wUUgsfkFgy70",
        "outputId": "fd5386de-14b0-4534-aeb9-2473f9e27c41"
      },
      "outputs": [
        {
          "name": "stdout",
          "output_type": "stream",
          "text": [
            "0\n",
            "1\n",
            "2\n",
            "3\n",
            "4\n",
            "5\n",
            "6\n",
            "7\n",
            "8\n",
            "9\n"
          ]
        }
      ],
      "source": [
        "#Using range() function in for loop\n",
        "for i in range(10):\n",
        "  print(i)"
      ]
    },
    {
      "cell_type": "code",
      "execution_count": null,
      "metadata": {
        "colab": {
          "base_uri": "https://localhost:8080/"
        },
        "id": "9cL3kKSXhGJO",
        "outputId": "6562e929-8214-48f9-86fe-030678dfd4ae"
      },
      "outputs": [
        {
          "name": "stdout",
          "output_type": "stream",
          "text": [
            "enter the number2\n",
            "2 * 1 = 2\n",
            "2 * 2 = 4\n",
            "2 * 3 = 6\n",
            "2 * 4 = 8\n",
            "2 * 5 = 10\n",
            "2 * 6 = 12\n",
            "2 * 7 = 14\n",
            "2 * 8 = 16\n",
            "2 * 9 = 18\n",
            "2 * 10 = 20\n"
          ]
        }
      ],
      "source": [
        "#program to print table of given number\n",
        "n=int(input(\"enter the number\"))\n",
        "for i in range(1,11):\n",
        "  c=n*i\n",
        "  print(n,\"*\",i,\"=\",c)"
      ]
    },
    {
      "cell_type": "code",
      "execution_count": null,
      "metadata": {
        "colab": {
          "base_uri": "https://localhost:8080/"
        },
        "id": "tkMEFgPxiUZ5",
        "outputId": "af878735-b500-432c-fc62-119a9f232713"
      },
      "outputs": [
        {
          "name": "stdout",
          "output_type": "stream",
          "text": [
            "enter the number20\n",
            "2\n",
            "4\n",
            "6\n",
            "8\n",
            "10\n",
            "12\n",
            "14\n",
            "16\n",
            "18\n"
          ]
        }
      ],
      "source": [
        "n=int(input(\"enter the number\"))\n",
        "for i in range(2,n,2):\n",
        "  print(i)"
      ]
    },
    {
      "cell_type": "code",
      "execution_count": null,
      "metadata": {
        "colab": {
          "base_uri": "https://localhost:8080/"
        },
        "id": "NF_SnNjvi4aw",
        "outputId": "4b676e43-fa59-4533-ce24-5b7631e4a266"
      },
      "outputs": [
        {
          "name": "stdout",
          "output_type": "stream",
          "text": [
            "hello peter\n",
            "hello joseph\n",
            "hello rocky\n",
            "hello devansh\n"
          ]
        }
      ],
      "source": [
        "#Using len() function\n",
        "list =['peter','joseph','rocky','devansh']\n",
        "for i in range(len(list)):\n",
        "  print(\"hello\",list[i])"
      ]
    },
    {
      "cell_type": "code",
      "execution_count": null,
      "metadata": {
        "colab": {
          "base_uri": "https://localhost:8080/"
        },
        "id": "kh6VUxm_j1IV",
        "outputId": "f56234c3-94ea-418b-d7b3-7c188052db81"
      },
      "outputs": [
        {
          "name": "stdout",
          "output_type": "stream",
          "text": [
            "enter the number20\n",
            "2\n",
            "6\n",
            "12\n",
            "20\n",
            "30\n",
            "42\n",
            "56\n",
            "72\n",
            "90\n"
          ]
        }
      ],
      "source": [
        "n=int(input (\"enter the number\"))\n",
        "sum=0\n",
        "for i in range(2,n,2):\n",
        "  \n",
        "  sum=sum+i\n",
        "  print(sum)"
      ]
    },
    {
      "cell_type": "code",
      "execution_count": null,
      "metadata": {
        "colab": {
          "base_uri": "https://localhost:8080/"
        },
        "id": "hhIIbjJNmk7Q",
        "outputId": "525f60d6-5d21-4f7f-a1ea-55b20332dff0"
      },
      "outputs": [
        {
          "name": "stdout",
          "output_type": "stream",
          "text": [
            "00000\n",
            "11111\n",
            "22222\n",
            "33333\n",
            "44444\n"
          ]
        }
      ],
      "source": [
        "# Nested for loop\n",
        "for i in range(5):\n",
        "  for j in range(5):\n",
        "    print(i,end='')\n",
        "  print('')"
      ]
    },
    {
      "cell_type": "code",
      "execution_count": null,
      "metadata": {
        "colab": {
          "base_uri": "https://localhost:8080/"
        },
        "id": "5br8qCQ8ntQD",
        "outputId": "5cd9ea0e-c7d4-4550-8424-3cbc592253a6"
      },
      "outputs": [
        {
          "name": "stdout",
          "output_type": "stream",
          "text": [
            "Enter the rows:5\n",
            "\n",
            "*\n",
            "**\n",
            "***\n",
            "****\n",
            "*****\n"
          ]
        }
      ],
      "source": [
        "#User input for number of rows\n",
        "rows = int(input(\"Enter the rows:\"))\n",
        "#Outer loop will print number of rows\n",
        "for i in range(0,rows+1):\n",
        "  #inner loop will print number of Astrisk\n",
        "  for j in range(i):\n",
        "     print(\"*\",end='')\n",
        "  print()"
      ]
    },
    {
      "cell_type": "code",
      "execution_count": null,
      "metadata": {
        "colab": {
          "base_uri": "https://localhost:8080/"
        },
        "id": "8NcRPypXpZ2b",
        "outputId": "3b8bf009-e9a8-42ff-f5fe-2b01377db525"
      },
      "outputs": [
        {
          "name": "stdout",
          "output_type": "stream",
          "text": [
            "SUM from 1 to 10 = 55\n"
          ]
        }
      ],
      "source": [
        "#Using while loop\n",
        "s=0\n",
        "i=1\n",
        "while i<=10:\n",
        "  s=s+i\n",
        "  i=i+1\n",
        "print('SUM from 1 to 10 =',s)"
      ]
    },
    {
      "cell_type": "code",
      "execution_count": null,
      "metadata": {
        "colab": {
          "base_uri": "https://localhost:8080/"
        },
        "id": "6LKiLh8KrYPv",
        "outputId": "58f2e3ef-d4ff-418c-e34b-39439f9bd7bf"
      },
      "outputs": [
        {
          "name": "stdout",
          "output_type": "stream",
          "text": [
            "ener the number:456\n",
            "reverse= 654\n"
          ]
        }
      ],
      "source": [
        "n=int(input(\"ener the number:\"))\n",
        "r=0\n",
        "while n>0:\n",
        "  d=int(n%10)\n",
        "  r=r*10+d\n",
        "  n=int(n/10)\n",
        "print('reverse=',r)"
      ]
    },
    {
      "cell_type": "code",
      "execution_count": null,
      "metadata": {
        "colab": {
          "base_uri": "https://localhost:8080/"
        },
        "id": "TJhJq6fjuMCZ",
        "outputId": "16d10fc8-8e44-40d6-ae53-6c183f4dfcc2"
      },
      "outputs": [
        {
          "name": "stdout",
          "output_type": "stream",
          "text": [
            "1\n",
            "2\n",
            "3\n",
            "4\n",
            "5\n"
          ]
        }
      ],
      "source": [
        "# break statement\n",
        "i=1\n",
        "while i<=10:\n",
        "  print(i)\n",
        "  if i==5:\n",
        "     break\n",
        "  i=i+1"
      ]
    },
    {
      "cell_type": "code",
      "execution_count": null,
      "metadata": {
        "colab": {
          "base_uri": "https://localhost:8080/"
        },
        "id": "TiGifMIqu-GX",
        "outputId": "014256ab-5996-4fed-afc2-bf139926852d"
      },
      "outputs": [
        {
          "name": "stdout",
          "output_type": "stream",
          "text": [
            "enter n=5\n",
            "0\n",
            "1\n",
            "2\n",
            "3\n",
            "4\n"
          ]
        }
      ],
      "source": [
        "#1,2,3,.....n Using for loop\n",
        "n=int(input('enter n='))\n",
        "for i in range(n):\n",
        "  print(i)"
      ]
    },
    {
      "cell_type": "code",
      "execution_count": null,
      "metadata": {
        "colab": {
          "base_uri": "https://localhost:8080/"
        },
        "id": "jytDfWBeEVde",
        "outputId": "a564ce06-7eea-4029-cc86-5332a54f237d"
      },
      "outputs": [
        {
          "name": "stdout",
          "output_type": "stream",
          "text": [
            "enter n=5\n",
            "12345"
          ]
        }
      ],
      "source": [
        "\n",
        "n=int(input('enter n='))\n",
        "for i in range(n):\n",
        "  print(i+1,end='')"
      ]
    },
    {
      "cell_type": "code",
      "execution_count": null,
      "metadata": {
        "colab": {
          "base_uri": "https://localhost:8080/"
        },
        "id": "--0st9trEweE",
        "outputId": "03a39643-7897-484c-fda9-c296a2e3f12b"
      },
      "outputs": [
        {
          "name": "stdout",
          "output_type": "stream",
          "text": [
            "enter n=5\n",
            "1,2,3,4,5,"
          ]
        }
      ],
      "source": [
        "n=int(input('enter n='))\n",
        "for i in range(n):\n",
        "  print(i+1,end=',')"
      ]
    },
    {
      "cell_type": "code",
      "execution_count": null,
      "metadata": {
        "colab": {
          "background_save": true,
          "base_uri": "https://localhost:8080/",
          "height": 130
        },
        "id": "bRWDvPUYE3X5",
        "outputId": "fd563f4f-86de-4580-f8dc-f7082215af3f"
      },
      "outputs": [
        {
          "ename": "IndentationError",
          "evalue": "ignored",
          "output_type": "error",
          "traceback": [
            "\u001b[0;36m  File \u001b[0;32m\"<ipython-input-18-f7e03394ddcf>\"\u001b[0;36m, line \u001b[0;32m3\u001b[0m\n\u001b[0;31m    i=1\u001b[0m\n\u001b[0m    ^\u001b[0m\n\u001b[0;31mIndentationError\u001b[0m\u001b[0;31m:\u001b[0m unexpected indent\n"
          ]
        }
      ],
      "source": [
        "#1,2,3,......n Using while loop\n",
        "n=int(input('enter n='))\n",
        "  i=1\n",
        "while i<=n:\n",
        " print(i,end='')\n",
        "  i=i+1"
      ]
    },
    {
      "cell_type": "code",
      "source": [
        "  for var in\"ABIT\":\n",
        "   if var==\"B\":\n",
        "      continue\n",
        "   print(var)"
      ],
      "metadata": {
        "colab": {
          "base_uri": "https://localhost:8080/"
        },
        "id": "aBA18VHFoDV0",
        "outputId": "49307926-e67f-44e5-e43c-934b00b058e3"
      },
      "execution_count": null,
      "outputs": [
        {
          "output_type": "stream",
          "name": "stdout",
          "text": [
            "A\n",
            "I\n",
            "T\n"
          ]
        }
      ]
    },
    {
      "cell_type": "code",
      "source": [
        " for i in range(10):\n",
        "  print(i)\n",
        "  if i ==2:\n",
        "    break"
      ],
      "metadata": {
        "colab": {
          "base_uri": "https://localhost:8080/"
        },
        "id": "d3es9eokpLGL",
        "outputId": "3a891c8d-3e39-45e2-bf31-7eb1daa265e9"
      },
      "execution_count": null,
      "outputs": [
        {
          "output_type": "stream",
          "name": "stdout",
          "text": [
            "0\n",
            "1\n",
            "2\n"
          ]
        }
      ]
    },
    {
      "cell_type": "code",
      "source": [
        " for i in range(10):\n",
        "   if i ==5:\n",
        "    continue\n",
        "   print(i)"
      ],
      "metadata": {
        "colab": {
          "base_uri": "https://localhost:8080/"
        },
        "id": "hTeZHjY0pw2h",
        "outputId": "f0de29b3-2dbb-4401-fca1-1a1e9571b562"
      },
      "execution_count": null,
      "outputs": [
        {
          "output_type": "stream",
          "name": "stdout",
          "text": [
            "0\n",
            "1\n",
            "2\n",
            "3\n",
            "4\n",
            "6\n",
            "7\n",
            "8\n",
            "9\n"
          ]
        }
      ]
    },
    {
      "cell_type": "code",
      "source": [
        " li=['a','b','c','d']\n",
        " for i in li:\n",
        "    if(i=='a'):\n",
        "      pass\n",
        "    else:\n",
        "       print(i)"
      ],
      "metadata": {
        "colab": {
          "base_uri": "https://localhost:8080/"
        },
        "id": "5YUIe37yq6gN",
        "outputId": "d3086b21-45ba-4685-fd75-b258288ef3b6"
      },
      "execution_count": null,
      "outputs": [
        {
          "output_type": "stream",
          "name": "stdout",
          "text": [
            "b\n",
            "c\n",
            "d\n"
          ]
        }
      ]
    },
    {
      "cell_type": "code",
      "source": [
        " n= int(input(\"enter the number of even numbers required\"))\n",
        " for i in range(0,n+1,2):\n",
        "   if(i<=10):\n",
        "     pass\n",
        "   else:\n",
        "      print(i)"
      ],
      "metadata": {
        "colab": {
          "base_uri": "https://localhost:8080/"
        },
        "id": "4PW5eRuBr-fq",
        "outputId": "ebc92b7a-b991-46e0-ba4d-6f94b2836001"
      },
      "execution_count": null,
      "outputs": [
        {
          "output_type": "stream",
          "name": "stdout",
          "text": [
            "enter the number of even numbers required20\n",
            "12\n",
            "14\n",
            "16\n",
            "18\n",
            "20\n"
          ]
        }
      ]
    },
    {
      "cell_type": "code",
      "source": [
        "def SHOWO():\n",
        " print('HELLO PYTHON')\n",
        "SHOWO()"
      ],
      "metadata": {
        "colab": {
          "base_uri": "https://localhost:8080/"
        },
        "id": "tYM3xBqhu98j",
        "outputId": "df042da7-68ed-417c-c6aa-e1056b3eca08"
      },
      "execution_count": null,
      "outputs": [
        {
          "output_type": "stream",
          "name": "stdout",
          "text": [
            "HELLO PYTHON\n"
          ]
        }
      ]
    },
    {
      "cell_type": "code",
      "source": [
        "def sum(a,b):\n",
        "  print('a+b =',(a+b))\n",
        "x=int(input('enter x'))\n",
        "y=int(input('enter y'))\n",
        "sum(x,y)"
      ],
      "metadata": {
        "colab": {
          "base_uri": "https://localhost:8080/"
        },
        "id": "B956eVPsx6jo",
        "outputId": "ef5099be-8448-4493-d527-bb24a84a2a01"
      },
      "execution_count": null,
      "outputs": [
        {
          "output_type": "stream",
          "name": "stdout",
          "text": [
            "enter x4\n",
            "enter y5\n",
            "a+b = 9\n"
          ]
        }
      ]
    },
    {
      "cell_type": "code",
      "source": [
        "n=int(input('enter the number'))\n",
        "def rev(n):\n",
        "  rev=0\n",
        "   while(n>0)\n",
        "     rev=int(n)\n",
        "     rev=rev*10+rev\n",
        "      n=int(n/10)\n",
        "      print(rev)\n",
        "      rev(n)\n"
      ],
      "metadata": {
        "colab": {
          "base_uri": "https://localhost:8080/",
          "height": 130
        },
        "id": "N1qUiDryy2GS",
        "outputId": "f236ad8f-209a-4de9-c3af-5a8fb053aef4"
      },
      "execution_count": null,
      "outputs": [
        {
          "output_type": "error",
          "ename": "IndentationError",
          "evalue": "ignored",
          "traceback": [
            "\u001b[0;36m  File \u001b[0;32m\"<ipython-input-1-04913ac1f1c7>\"\u001b[0;36m, line \u001b[0;32m4\u001b[0m\n\u001b[0;31m    while(n>0)\u001b[0m\n\u001b[0m    ^\u001b[0m\n\u001b[0;31mIndentationError\u001b[0m\u001b[0;31m:\u001b[0m unexpected indent\n"
          ]
        }
      ]
    },
    {
      "cell_type": "code",
      "source": [
        " def sum(a,b):\n",
        "  return(a+b)\n",
        "print(sum(10,70))"
      ],
      "metadata": {
        "colab": {
          "base_uri": "https://localhost:8080/"
        },
        "id": "fV35UQitmnbW",
        "outputId": "b6d463df-bd28-4ec3-d98a-124c02c5f68a"
      },
      "execution_count": null,
      "outputs": [
        {
          "output_type": "stream",
          "name": "stdout",
          "text": [
            "80\n"
          ]
        }
      ]
    },
    {
      "cell_type": "code",
      "source": [
        "def adding(x,y):\n",
        "  i=x+y\n",
        "  return i\n",
        "result=adding(16,25)\n",
        "print(result)"
      ],
      "metadata": {
        "colab": {
          "base_uri": "https://localhost:8080/"
        },
        "id": "kiJGrAZUnYa3",
        "outputId": "97f19e32-de87-4279-a379-ffd41fcb9576"
      },
      "execution_count": null,
      "outputs": [
        {
          "output_type": "stream",
          "name": "stdout",
          "text": [
            "41\n"
          ]
        }
      ]
    },
    {
      "cell_type": "code",
      "source": [
        "rows=int(input(\"enter no of rows\"))\n",
        "for i in range(0,rows+1):\n",
        "  for j in range(i):\n",
        "    print(i,end =\" \")\n",
        "  print()\n",
        "\n",
        "\n"
      ],
      "metadata": {
        "colab": {
          "base_uri": "https://localhost:8080/"
        },
        "id": "RWN-dHteof12",
        "outputId": "3c98cefc-8a54-4401-a2ca-8c959ba3a4e5"
      },
      "execution_count": null,
      "outputs": [
        {
          "output_type": "stream",
          "name": "stdout",
          "text": [
            "enter no of rows5\n",
            "\n",
            "1 \n",
            "2 2 \n",
            "3 3 3 \n",
            "4 4 4 4 \n",
            "5 5 5 5 5 \n"
          ]
        }
      ]
    },
    {
      "cell_type": "code",
      "source": [
        "rows=int(input(\"enter no of rows\"))\n",
        "for i in range(rows,0,-1):\n",
        "  n=i\n",
        "  for j in range(0,i):\n",
        "    print(i,end =\" \")\n",
        "  print()"
      ],
      "metadata": {
        "colab": {
          "base_uri": "https://localhost:8080/"
        },
        "id": "K4Dx2OQQrZRi",
        "outputId": "ecf0fbb3-58bd-4ad3-f41b-9c311845dee7"
      },
      "execution_count": null,
      "outputs": [
        {
          "output_type": "stream",
          "name": "stdout",
          "text": [
            "enter no of rows5\n",
            "5 5 5 5 5 \n",
            "4 4 4 4 \n",
            "3 3 3 \n",
            "2 2 \n",
            "1 \n"
          ]
        }
      ]
    },
    {
      "cell_type": "code",
      "source": [
        "def greet():\n",
        "  #local variable\n",
        "  message='hello'\n",
        "  print('local',message)\n",
        "\n",
        "greet()"
      ],
      "metadata": {
        "colab": {
          "base_uri": "https://localhost:8080/"
        },
        "id": "021CcLrIr5gg",
        "outputId": "ba5c730b-0389-4b29-ea64-8c037634a52f"
      },
      "execution_count": null,
      "outputs": [
        {
          "output_type": "stream",
          "name": "stdout",
          "text": [
            "local hello\n"
          ]
        }
      ]
    },
    {
      "cell_type": "code",
      "source": [
        "def greet():\n",
        "  #local variable\n",
        "  message='hello'\n",
        "  print('local',message)\n",
        "\n",
        "greet()\n",
        "message='ABIT CES'\n",
        "print(message)"
      ],
      "metadata": {
        "colab": {
          "base_uri": "https://localhost:8080/"
        },
        "id": "nU53cxratPax",
        "outputId": "5d62d74a-6a78-4f58-afc7-ef7d43230175"
      },
      "execution_count": null,
      "outputs": [
        {
          "output_type": "stream",
          "name": "stdout",
          "text": [
            "local hello\n",
            "ABIT CES\n"
          ]
        }
      ]
    },
    {
      "cell_type": "code",
      "source": [
        "add=lambda num:num+4\n",
        "print(add(6))\n"
      ],
      "metadata": {
        "colab": {
          "base_uri": "https://localhost:8080/"
        },
        "id": "uo4HYETytykA",
        "outputId": "7df1e7ab-43cc-4e4a-d464-3c04911038b6"
      },
      "execution_count": null,
      "outputs": [
        {
          "output_type": "stream",
          "name": "stdout",
          "text": [
            "10\n"
          ]
        }
      ]
    },
    {
      "cell_type": "code",
      "source": [
        "a=lambda x,y:x+y\n",
        "print(a(1,2))"
      ],
      "metadata": {
        "colab": {
          "base_uri": "https://localhost:8080/"
        },
        "id": "o696nvgAvtPW",
        "outputId": "6b0083b2-9534-406e-bfe5-ee420448024f"
      },
      "execution_count": null,
      "outputs": [
        {
          "output_type": "stream",
          "name": "stdout",
          "text": [
            "3\n"
          ]
        }
      ]
    },
    {
      "cell_type": "code",
      "source": [
        "def factorial(x):\n",
        " if x==1:\n",
        "  return 1\n",
        " else:\n",
        "  return(x*factorial(x-1))\n",
        "num=int(input('num=?'))\n",
        "print(\"the factorial of\",num,\"is\",factorial(num))"
      ],
      "metadata": {
        "colab": {
          "base_uri": "https://localhost:8080/"
        },
        "id": "lVIKBjmiwbcg",
        "outputId": "2c6ed7d8-f0ba-4409-f817-f3d71575d480"
      },
      "execution_count": null,
      "outputs": [
        {
          "output_type": "stream",
          "name": "stdout",
          "text": [
            "num=?6\n",
            "the factorial of 6 is 720\n"
          ]
        }
      ]
    },
    {
      "cell_type": "code",
      "source": [
        "nterms = int(input(\"How many terms? \"))\n",
        "n1, n2 = 0,1\n",
        "count = 0\n",
        "if nter"
      ],
      "metadata": {
        "id": "4RHQrojw0i6b"
      },
      "execution_count": null,
      "outputs": []
    },
    {
      "cell_type": "code",
      "source": [
        "import math\n",
        "pie=math.pi\n",
        "print(\"the value of pi is :\",pie)"
      ],
      "metadata": {
        "colab": {
          "base_uri": "https://localhost:8080/"
        },
        "id": "7b0jfMKI1pgC",
        "outputId": "b852a2a5-afc8-40a2-ae64-c64044be0975"
      },
      "execution_count": null,
      "outputs": [
        {
          "output_type": "stream",
          "name": "stdout",
          "text": [
            "the value of pi is : 3.141592653589793\n"
          ]
        }
      ]
    },
    {
      "cell_type": "code",
      "source": [
        "import math as sushree\n",
        "pie=sushree.pi\n",
        "print(\"the value of pi is :\",pie)"
      ],
      "metadata": {
        "colab": {
          "base_uri": "https://localhost:8080/"
        },
        "id": "ZZ_Zhbw22GZ7",
        "outputId": "2e4039ac-859d-40a5-a494-2b73672c5da4"
      },
      "execution_count": null,
      "outputs": [
        {
          "output_type": "stream",
          "name": "stdout",
          "text": [
            "the value of pi is : 3.141592653589793\n"
          ]
        }
      ]
    },
    {
      "cell_type": "code",
      "source": [
        "import random\n",
        "for i in range(10):\n",
        "  print(random.randint(1,25))"
      ],
      "metadata": {
        "colab": {
          "base_uri": "https://localhost:8080/"
        },
        "id": "m1tC7pSt2SX0",
        "outputId": "33420e7a-6a62-49e2-cb88-644e3f3cab9e"
      },
      "execution_count": null,
      "outputs": [
        {
          "output_type": "stream",
          "name": "stdout",
          "text": [
            "24\n",
            "8\n",
            "24\n",
            "3\n",
            "9\n",
            "10\n",
            "5\n",
            "25\n",
            "21\n",
            "22\n"
          ]
        }
      ]
    },
    {
      "cell_type": "code",
      "source": [
        "import random\n",
        "import math \n",
        "for i in range(5):\n",
        "  print(random.randint(1,25))\n",
        "print(math.pi)"
      ],
      "metadata": {
        "colab": {
          "base_uri": "https://localhost:8080/"
        },
        "id": "aYujqK2p3ETR",
        "outputId": "d47c06be-41f3-48c9-f598-bf43a129fa5c"
      },
      "execution_count": null,
      "outputs": [
        {
          "output_type": "stream",
          "name": "stdout",
          "text": [
            "25\n",
            "22\n",
            "15\n",
            "11\n",
            "19\n",
            "3.141592653589793\n"
          ]
        }
      ]
    },
    {
      "cell_type": "code",
      "source": [
        "class myclass:\n",
        "  a=100\n",
        "  def fun(self):\n",
        "    print('hello class')\n",
        "obj=myclass()\n",
        "print(obj.a)\n",
        "obj.fun()"
      ],
      "metadata": {
        "colab": {
          "base_uri": "https://localhost:8080/"
        },
        "id": "AzkESjHvIM-7",
        "outputId": "5cd01bab-1f80-4da2-eb82-d078e8986017"
      },
      "execution_count": 1,
      "outputs": [
        {
          "output_type": "stream",
          "name": "stdout",
          "text": [
            "100\n",
            "hello class\n"
          ]
        }
      ]
    },
    {
      "cell_type": "code",
      "source": [
        "class myclass:\n",
        "  def __init__(self,name):\n",
        "     print(\"hello\",name)\n",
        "obj = myclass(\"sushree\")"
      ],
      "metadata": {
        "colab": {
          "base_uri": "https://localhost:8080/"
        },
        "id": "xozp2otqJx5N",
        "outputId": "6227f6f7-5907-4741-febc-45c71c62ef08"
      },
      "execution_count": 7,
      "outputs": [
        {
          "output_type": "stream",
          "name": "stdout",
          "text": [
            "hello sushree\n"
          ]
        }
      ]
    },
    {
      "cell_type": "code",
      "source": [
        "class a:\n",
        "   def __init__(self,n):\n",
        "    for i in range(n+1):\n",
        "      for j in range(i):\n",
        "        print(i,end='')\n",
        "      print()\n",
        "n=int(input(\"Enter the no.of rows\"))\n",
        "obj=a"
      ],
      "metadata": {
        "id": "EwLaeZ9GMpP1"
      },
      "execution_count": null,
      "outputs": []
    },
    {
      "cell_type": "code",
      "source": [
        "class animal:\n",
        "  def speak(self):\n",
        "    print(\"animal speaking\")\n",
        "class dog(animal):\n",
        "  def bark(self):\n",
        "    print(\"dog breaking\")\n",
        "d=Dog()\n",
        "d.bark()\n",
        "d.speak()"
      ],
      "metadata": {
        "id": "NqPjJDjLOKnR"
      },
      "execution_count": null,
      "outputs": []
    },
    {
      "cell_type": "code",
      "source": [],
      "metadata": {
        "id": "GcBazGZZOKi1"
      },
      "execution_count": null,
      "outputs": []
    }
  ],
  "metadata": {
    "colab": {
      "provenance": [],
      "authorship_tag": "ABX9TyMpEXQ3TUpf+EItfp+7wnN+",
      "include_colab_link": true
    },
    "kernelspec": {
      "display_name": "Python 3",
      "name": "python3"
    },
    "language_info": {
      "name": "python"
    }
  },
  "nbformat": 4,
  "nbformat_minor": 0
}