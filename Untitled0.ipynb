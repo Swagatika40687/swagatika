{
  "nbformat": 4,
  "nbformat_minor": 0,
  "metadata": {
    "colab": {
      "provenance": [],
      "authorship_tag": "ABX9TyPSn/I207D6k3L23qCcvLtZ",
      "include_colab_link": true
    },
    "kernelspec": {
      "name": "python3",
      "display_name": "Python 3"
    },
    "language_info": {
      "name": "python"
    }
  },
  "cells": [
    {
      "cell_type": "markdown",
      "metadata": {
        "id": "view-in-github",
        "colab_type": "text"
      },
      "source": [
        "<a href=\"https://colab.research.google.com/github/Swagatika40687/swagatika/blob/main/Untitled0.ipynb\" target=\"_parent\"><img src=\"https://colab.research.google.com/assets/colab-badge.svg\" alt=\"Open In Colab\"/></a>"
      ]
    },
    {
      "cell_type": "code",
      "execution_count": null,
      "metadata": {
        "colab": {
          "base_uri": "https://localhost:8080/"
        },
        "id": "uH2PGXaEbl3O",
        "outputId": "b3a82e8e-2ca8-4b61-a160-1f1a8be74faf"
      },
      "outputs": [
        {
          "output_type": "stream",
          "name": "stdout",
          "text": [
            "hello Sushree\n"
          ]
        }
      ],
      "source": [
        "print('hello Sushree')"
      ]
    },
    {
      "cell_type": "code",
      "source": [
        "print('hello',end='\\n\\n')\n",
        "print ('abit') "
      ],
      "metadata": {
        "colab": {
          "base_uri": "https://localhost:8080/"
        },
        "id": "7kxM4hKocG20",
        "outputId": "9c3d7547-bc26-492d-dbc0-138b3c71170a"
      },
      "execution_count": null,
      "outputs": [
        {
          "output_type": "stream",
          "name": "stdout",
          "text": [
            "hello\n",
            "\n",
            "abit\n"
          ]
        }
      ]
    },
    {
      "cell_type": "code",
      "source": [
        "x=0b10100\n",
        "y=100\n",
        "z=0o215\n",
        "u=0x12d\n",
        "float_1=100.5\n",
        "float_2=1.5e2\n",
        "a=5+3.14j\n",
        "print(x,y,z,u)\n",
        "print(float_1,float_2)\n",
        "print(a,a.imag,a.real)"
      ],
      "metadata": {
        "colab": {
          "base_uri": "https://localhost:8080/"
        },
        "id": "KhpMiFj7hpUw",
        "outputId": "b966db77-f635-4b32-ff48-7ea5a82dcd5c"
      },
      "execution_count": null,
      "outputs": [
        {
          "output_type": "stream",
          "name": "stdout",
          "text": [
            "20 100 141 301\n",
            "100.5 150.0\n",
            "(5+3.14j) 3.14 5.0\n"
          ]
        }
      ]
    },
    {
      "cell_type": "code",
      "source": [
        "a=2\n",
        "b=5\n",
        "print(2**5)"
      ],
      "metadata": {
        "colab": {
          "base_uri": "https://localhost:8080/"
        },
        "id": "BEH6ZTCca6Jf",
        "outputId": "f94b0012-a445-4059-85e5-73c6868e031b"
      },
      "execution_count": 1,
      "outputs": [
        {
          "output_type": "stream",
          "name": "stdout",
          "text": [
            "32\n"
          ]
        }
      ]
    },
    {
      "cell_type": "code",
      "source": [
        "a=2+5j\n",
        "b=3+10j\n",
        "c=a+b\n",
        "print(c)"
      ],
      "metadata": {
        "colab": {
          "base_uri": "https://localhost:8080/"
        },
        "id": "iJOONatNl6pM",
        "outputId": "9d2be3a6-af86-408e-f76b-3d4591bdc149"
      },
      "execution_count": null,
      "outputs": [
        {
          "output_type": "stream",
          "name": "stdout",
          "text": [
            "(5+15j)\n"
          ]
        }
      ]
    },
    {
      "cell_type": "code",
      "source": [
        "#Using / and //\n",
        "a=8\n",
        "b=3\n",
        "print(a/b)\n",
        "print(a//b)"
      ],
      "metadata": {
        "colab": {
          "base_uri": "https://localhost:8080/"
        },
        "id": "LyCNmzHPbLve",
        "outputId": "a591a15b-005d-4647-e277-3808d0281c12"
      },
      "execution_count": 2,
      "outputs": [
        {
          "output_type": "stream",
          "name": "stdout",
          "text": [
            "2.6666666666666665\n",
            "2\n"
          ]
        }
      ]
    },
    {
      "cell_type": "code",
      "source": [
        "a=True\n",
        "b=True\n",
        "c=False\n",
        "print(a and b)\n",
        "print(a and c)\n",
        "print(a or b)\n",
        "print(not c)"
      ],
      "metadata": {
        "colab": {
          "base_uri": "https://localhost:8080/"
        },
        "id": "VC5VvTjvcG0Z",
        "outputId": "8e5c2ffd-ab82-4ccf-cc53-e0677c72b912"
      },
      "execution_count": 3,
      "outputs": [
        {
          "output_type": "stream",
          "name": "stdout",
          "text": [
            "True\n",
            "False\n",
            "True\n",
            "True\n"
          ]
        }
      ]
    },
    {
      "cell_type": "code",
      "source": [
        "a=5\n",
        "b=2\n",
        "print(a>>b)"
      ],
      "metadata": {
        "colab": {
          "base_uri": "https://localhost:8080/"
        },
        "id": "4gqeXIpcd5oW",
        "outputId": "04c5178a-e1cd-4e8c-8c51-532fbfd9621d"
      },
      "execution_count": 5,
      "outputs": [
        {
          "output_type": "stream",
          "name": "stdout",
          "text": [
            "1\n"
          ]
        }
      ]
    },
    {
      "cell_type": "code",
      "source": [
        "# Using ASSIGNMENT operator\n",
        "a=5\n",
        "a+=5\n",
        "print(a)\n",
        "a-=5\n",
        "print(a)\n",
        "a*=5\n",
        "print(a)\n",
        "a/=5\n",
        "print(a)\n",
        "a//=5\n",
        "print(a)\n",
        "a%=5\n",
        "print(a)\n",
        "a**=5\n",
        "print(a)\n",
        "a!=5\n",
        "print(a)"
      ],
      "metadata": {
        "colab": {
          "base_uri": "https://localhost:8080/"
        },
        "id": "2FhDZcBmf1nQ",
        "outputId": "a9f961b6-0290-445c-9535-902e6bd21542"
      },
      "execution_count": 6,
      "outputs": [
        {
          "output_type": "stream",
          "name": "stdout",
          "text": [
            "10\n",
            "5\n",
            "25\n",
            "5.0\n",
            "1.0\n",
            "1.0\n",
            "1.0\n",
            "1.0\n"
          ]
        }
      ]
    },
    {
      "cell_type": "code",
      "source": [
        "x=5\n",
        "y=5\n",
        "print(x is y)\n",
        "y=6\n",
        "print(x is not y)\n"
      ],
      "metadata": {
        "colab": {
          "base_uri": "https://localhost:8080/"
        },
        "id": "H75YbhfAiGN2",
        "outputId": "0f65375e-6af0-4df3-cf85-8948d58a6c51"
      },
      "execution_count": 7,
      "outputs": [
        {
          "output_type": "stream",
          "name": "stdout",
          "text": [
            "True\n",
            "True\n"
          ]
        }
      ]
    },
    {
      "cell_type": "code",
      "source": [
        "x='HELLO'\n",
        "print('A' not in x)"
      ],
      "metadata": {
        "colab": {
          "base_uri": "https://localhost:8080/"
        },
        "id": "9EsQCAqmin-u",
        "outputId": "c68a0362-b2a6-45e6-8c2e-78522a46f1f6"
      },
      "execution_count": 9,
      "outputs": [
        {
          "output_type": "stream",
          "name": "stdout",
          "text": [
            "True\n"
          ]
        }
      ]
    },
    {
      "cell_type": "code",
      "source": [
        "# Using if Statement in PYTHON\n",
        "a=int(input('enter a number'))\n",
        "if a%2==0 :\n",
        " print('even no=',5a)"
      ],
      "metadata": {
        "colab": {
          "base_uri": "https://localhost:8080/"
        },
        "id": "M-O5aXT1jvnI",
        "outputId": "f6642cd6-cdbe-467d-d832-c6679ff1d769"
      },
      "execution_count": 13,
      "outputs": [
        {
          "output_type": "stream",
          "name": "stdout",
          "text": [
            "enter a number4\n",
            "even no= 4\n"
          ]
        }
      ]
    },
    {
      "cell_type": "code",
      "source": [
        "# using if-elif statement\n",
        "number = int(input(\"enter the number\"))\n",
        "if number==10:\n",
        "    print(\"number the equals to 10\")\n",
        "elif number==50:\n",
        "     print(\"number the equals to 50\")\n",
        "elif number==100:\n",
        "   print(\"number the equals to 100\")\n",
        "else:\n",
        "  print(\"number is not equal to 10,50 or 100\");\n"
      ],
      "metadata": {
        "colab": {
          "base_uri": "https://localhost:8080/"
        },
        "id": "aCC8Mv28l78J",
        "outputId": "da7896f0-5916-4303-8431-ecf08c00d43a"
      },
      "execution_count": 14,
      "outputs": [
        {
          "output_type": "stream",
          "name": "stdout",
          "text": [
            "enter the number5\n",
            "number is not equal to 10,50 or 100\n"
          ]
        }
      ]
    },
    {
      "cell_type": "code",
      "source": [
        "# using for statement\n",
        "x='ABIT'\n",
        "for i in x:\n",
        "   print(i)"
      ],
      "metadata": {
        "colab": {
          "base_uri": "https://localhost:8080/"
        },
        "id": "Jgl_KRKxoYfh",
        "outputId": "1e777460-0973-40ee-cd56-d4ecc5f12840"
      },
      "execution_count": 15,
      "outputs": [
        {
          "output_type": "stream",
          "name": "stdout",
          "text": [
            "A\n",
            "B\n",
            "I\n",
            "T\n"
          ]
        }
      ]
    }
  ]
}